{
 "cells": [
  {
   "cell_type": "markdown",
   "id": "0a2d5f0e",
   "metadata": {},
   "source": [
    "# 8 Python Optimization Techniques with Examples\n",
    "\n",
    "This notebook contains 8 proven tips to help you write faster, more efficient Python code. Each technique is demonstrated with clear code examples.\n",
    "\n",
    "---\n"
   ]
  },
  {
   "cell_type": "markdown",
   "id": "321cd650",
   "metadata": {},
   "source": [
    "## 1. Use `set` over `list` for fast lookup"
   ]
  },
  {
   "cell_type": "code",
   "execution_count": null,
   "id": "036da56c",
   "metadata": {},
   "outputs": [],
   "source": [
    "# Bad: Using list for lookup\n",
    "my_list = [1, 2, 3, 4, 5]\n",
    "if 4 in my_list:\n",
    "    print(\"Found in list\")\n",
    "\n",
    "# Good: Using set for lookup\n",
    "my_set = {1, 2, 3, 4, 5}\n",
    "if 4 in my_set:\n",
    "    print(\"Found in set\")\n"
   ]
  },
  {
   "cell_type": "markdown",
   "id": "1f1bfbaa",
   "metadata": {},
   "source": [
    "## 2. Vectorize your pandas operations"
   ]
  },
  {
   "cell_type": "code",
   "execution_count": null,
   "id": "21591589",
   "metadata": {},
   "outputs": [],
   "source": [
    "import pandas as pd\n",
    "\n",
    "df = pd.DataFrame({'a': [1, 2, 3], 'b': [10, 20, 30]})\n",
    "\n",
    "# Bad: Using apply\n",
    "df['sum_apply'] = df.apply(lambda row: row['a'] + row['b'], axis=1)\n",
    "\n",
    "# Good: Vectorized operation\n",
    "df['sum_vectorized'] = df['a'] + df['b']\n",
    "\n",
    "df\n"
   ]
  },
  {
   "cell_type": "markdown",
   "id": "487eaf74",
   "metadata": {},
   "source": [
    "## 3. Stream files with generators"
   ]
  },
  {
   "cell_type": "code",
   "execution_count": null,
   "id": "9f128f61",
   "metadata": {},
   "outputs": [],
   "source": [
    "# Simulating streaming with a generator\n",
    "def line_generator():\n",
    "    for i in range(5):\n",
    "        yield f\"Line {i}\"\n",
    "\n",
    "for line in line_generator():\n",
    "    print(line)\n"
   ]
  },
  {
   "cell_type": "markdown",
   "id": "7324eb08",
   "metadata": {},
   "source": [
    "## 4. Parallelize I/O and CPU tasks"
   ]
  },
  {
   "cell_type": "code",
   "execution_count": null,
   "id": "5ae44567",
   "metadata": {},
   "outputs": [],
   "source": [
    "from concurrent.futures import ThreadPoolExecutor\n",
    "\n",
    "def download(url):\n",
    "    return f\"Downloaded {url}\"\n",
    "\n",
    "urls = [\"url1\", \"url2\", \"url3\"]\n",
    "\n",
    "with ThreadPoolExecutor() as executor:\n",
    "    results = list(executor.map(download, urls))\n",
    "\n",
    "results\n"
   ]
  },
  {
   "cell_type": "markdown",
   "id": "5a087ffd",
   "metadata": {},
   "source": [
    "## 5. Profile before refactoring"
   ]
  },
  {
   "cell_type": "code",
   "execution_count": null,
   "id": "d4408da0",
   "metadata": {},
   "outputs": [],
   "source": [
    "import cProfile\n",
    "\n",
    "def slow_function():\n",
    "    total = 0\n",
    "    for i in range(1000000):\n",
    "        total += i\n",
    "    return total\n",
    "\n",
    "# Profile the function to find bottlenecks\n",
    "cProfile.run('slow_function()')\n"
   ]
  },
  {
   "cell_type": "markdown",
   "id": "3ada4096",
   "metadata": {},
   "source": [
    "## 6. Ditch loops for comprehensions"
   ]
  },
  {
   "cell_type": "code",
   "execution_count": null,
   "id": "d561501a",
   "metadata": {},
   "outputs": [],
   "source": [
    "# Bad: using loop\n",
    "squares_loop = []\n",
    "for i in range(10):\n",
    "    squares_loop.append(i * i)\n",
    "\n",
    "# Good: list comprehension\n",
    "squares_comp = [i * i for i in range(10)]\n",
    "\n",
    "squares_loop, squares_comp\n"
   ]
  },
  {
   "cell_type": "markdown",
   "id": "c60f7610",
   "metadata": {},
   "source": [
    "## 7. Stick to built-in libraries"
   ]
  },
  {
   "cell_type": "code",
   "execution_count": null,
   "id": "ee95d447",
   "metadata": {},
   "outputs": [],
   "source": [
    "from collections import Counter\n",
    "from functools import lru_cache\n",
    "\n",
    "words = ['a', 'b', 'a', 'c']\n",
    "counter = Counter(words)\n",
    "print(\"Word counts:\", counter)\n",
    "\n",
    "@lru_cache(maxsize=None)\n",
    "def fib(n):\n",
    "    if n < 2:\n",
    "        return n\n",
    "    return fib(n-1) + fib(n-2)\n",
    "\n",
    "print(\"Fibonacci(10):\", fib(10))\n"
   ]
  },
  {
   "cell_type": "markdown",
   "id": "d8d84da2",
   "metadata": {},
   "source": [
    "## 8. Avoid overusing `.apply()`"
   ]
  },
  {
   "cell_type": "code",
   "execution_count": null,
   "id": "f91496c3",
   "metadata": {},
   "outputs": [],
   "source": [
    "df = pd.DataFrame({'text': ['apple', 'banana', 'cherry']})\n",
    "\n",
    "# Bad\n",
    "df['length_apply'] = df['text'].apply(len)\n",
    "\n",
    "# Good\n",
    "df['length_str'] = df['text'].str.len()\n",
    "\n",
    "df\n"
   ]
  }
 ],
 "metadata": {},
 "nbformat": 4,
 "nbformat_minor": 5
}
